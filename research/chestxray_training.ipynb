{
 "cells": [
  {
   "cell_type": "code",
   "execution_count": 1,
   "metadata": {},
   "outputs": [
    {
     "name": "stdout",
     "output_type": "stream",
     "text": [
      "Default GPU Device:/device:GPU:0\n"
     ]
    }
   ],
   "source": [
    "import tensorflow as tf \n",
    "\n",
    "if tf.test.gpu_device_name(): \n",
    "    \n",
    "\n",
    "    print('Default GPU Device:{}'.format(tf.test.gpu_device_name()))\n",
    "\n",
    "else:\n",
    "\n",
    "    print(\"Please install GPU version of TF\")"
   ]
  },
  {
   "cell_type": "code",
   "execution_count": 2,
   "metadata": {},
   "outputs": [
    {
     "data": {
      "text/plain": [
       "'/device:GPU:0'"
      ]
     },
     "execution_count": 2,
     "metadata": {},
     "output_type": "execute_result"
    }
   ],
   "source": [
    "tf.test.gpu_device_name()"
   ]
  },
  {
   "cell_type": "code",
   "execution_count": 3,
   "metadata": {},
   "outputs": [],
   "source": [
    "from tensorflow.compat.v1 import ConfigProto\n",
    "from tensorflow.compat.v1 import InteractiveSession\n",
    "\n",
    "config = ConfigProto()\n",
    "config.gpu_options.per_process_gpu_memory_fraction = 0.85\n",
    "config.gpu_options.allow_growth = True\n",
    "session = InteractiveSession(config=config)"
   ]
  },
  {
   "cell_type": "code",
   "execution_count": 58,
   "metadata": {},
   "outputs": [],
   "source": [
    "from tensorflow.keras.layers import Input, Lambda, Dense, Flatten\n",
    "from tensorflow.keras.models import Model\n",
    "from tensorflow.keras.layers import Dropout\n",
    "from tensorflow.keras.layers import AveragePooling2D\n",
    "from tensorflow.keras.applications.vgg16 import VGG16\n",
    "from tensorflow.keras.applications.vgg16 import preprocess_input\n",
    "from tensorflow.keras.preprocessing import image\n",
    "from PIL import Image\n",
    "from tensorflow.keras.preprocessing.image import ImageDataGenerator,load_img\n",
    "from tensorflow.keras.models import Sequential\n",
    "import numpy as np\n",
    "import matplotlib.pyplot as plt\n",
    "import numpy as np"
   ]
  },
  {
   "cell_type": "code",
   "execution_count": 59,
   "metadata": {},
   "outputs": [],
   "source": [
    "img_height, img_width = (224,224)\n",
    "batch_size = 32\n",
    "train_data_dir=\"./processed_data/train\"\n",
    "valid_data_dir=\"./processed_data/val\"\n",
    "test_data_dir=\"./processed_data/test\"\n",
    "IMAGE_SIZE = [224, 224]"
   ]
  },
  {
   "cell_type": "code",
   "execution_count": 60,
   "metadata": {},
   "outputs": [
    {
     "name": "stdout",
     "output_type": "stream",
     "text": [
      "Found 2880 images belonging to 3 classes.\n",
      "Found 720 images belonging to 3 classes.\n"
     ]
    }
   ],
   "source": [
    "train_datagen = ImageDataGenerator(rescale = 1./255,\n",
    "                                  shear_range=0.2,\n",
    "                                  zoom_range=0.2,\n",
    "                                  horizontal_flip=True)\n",
    "train_generator = train_datagen.flow_from_directory(train_data_dir,\n",
    "                                                   target_size=(img_height,img_width),\n",
    "                                                   batch_size=batch_size,\n",
    "                                                    color_mode=\"rgb\",\n",
    "                                                   class_mode='categorical'\n",
    "                                                   )\n",
    "test_datagen = ImageDataGenerator(rescale = 1./255)\n",
    "valid_generator = test_datagen.flow_from_directory(valid_data_dir,\n",
    "                                                   target_size=(img_height,img_width),\n",
    "                                                   color_mode=\"rgb\",\n",
    "                                                   batch_size=batch_size,\n",
    "                                                   class_mode='categorical'\n",
    "                                                   )"
   ]
  },
  {
   "cell_type": "code",
   "execution_count": 61,
   "metadata": {},
   "outputs": [
    {
     "name": "stdout",
     "output_type": "stream",
     "text": [
      "Found 162 images belonging to 3 classes.\n"
     ]
    }
   ],
   "source": [
    "test_generator = test_datagen.flow_from_directory(test_data_dir,\n",
    "                                                   target_size=(img_height,img_width),\n",
    "                                                   batch_size=1,\n",
    "                                                  color_mode=\"rgb\",\n",
    "                                                   class_mode='categorical')"
   ]
  },
  {
   "cell_type": "code",
   "execution_count": null,
   "metadata": {},
   "outputs": [],
   "source": []
  },
  {
   "cell_type": "code",
   "execution_count": null,
   "metadata": {},
   "outputs": [],
   "source": []
  },
  {
   "cell_type": "code",
   "execution_count": 64,
   "metadata": {},
   "outputs": [],
   "source": [
    "model = tf.keras.models.Sequential([\n",
    "    tf.keras.layers.Conv2D(64,3,3,padding='same',input_shape=(224,224,3)),\n",
    "    tf.keras.layers.Activation('relu'),\n",
    "    tf.keras.layers.Conv2D(96,3,3,padding='valid'),\n",
    "    tf.keras.layers.Activation('relu'),\n",
    "    tf.keras.layers.ZeroPadding2D(padding=(1,1)),\n",
    "    tf.keras.layers.MaxPooling2D(pool_size=(2,2),strides=(2,2)),\n",
    "    \n",
    "        \n",
    "\n",
    "    tf.keras.layers.Conv2D(128,3,3,padding='same'),\n",
    "    tf.keras.layers.Activation('relu'),\n",
    "    tf.keras.layers.Conv2D(256,3,3,padding='valid'),\n",
    "    tf.keras.layers.Activation('relu'),\n",
    "    tf.keras.layers.ZeroPadding2D(padding=(1,1)),\n",
    "    tf.keras.layers.MaxPooling2D(pool_size=(2,2),strides=(2,2)),\n",
    "    tf.keras.layers.Dropout(0.5),\n",
    "    \n",
    "    \n",
    "   \n",
    "    \n",
    "    tf.keras.layers.Flatten(),\n",
    "    tf.keras.layers.Dense(1024),\n",
    "    tf.keras.layers.Activation('relu'),\n",
    "    tf.keras.layers.Dropout(0.5),\n",
    "    tf.keras.layers.Dense(3),\n",
    "    tf.keras.layers.Activation('softmax')\n",
    "    \n",
    "       \n",
    "])"
   ]
  },
  {
   "cell_type": "code",
   "execution_count": 65,
   "metadata": {},
   "outputs": [],
   "source": [
    "from tensorflow.keras.optimizers import Adam\n",
    "\n",
    "model.compile(optimizer=Adam(lr=0.0001),\n",
    "              loss='categorical_crossentropy',\n",
    "              metrics = ['accuracy'])"
   ]
  },
  {
   "cell_type": "code",
   "execution_count": 67,
   "metadata": {
    "scrolled": true
   },
   "outputs": [
    {
     "name": "stdout",
     "output_type": "stream",
     "text": [
      "Epoch 1/30\n",
      "90/90 [==============================] - 90s 1s/step - loss: 0.9724 - accuracy: 0.5295 - val_loss: 0.6150 - val_accuracy: 0.6375\n",
      "Epoch 2/30\n",
      "90/90 [==============================] - 92s 1s/step - loss: 0.7366 - accuracy: 0.6323 - val_loss: 0.5669 - val_accuracy: 0.6542\n",
      "Epoch 3/30\n",
      "90/90 [==============================] - 107s 1s/step - loss: 0.6682 - accuracy: 0.6955 - val_loss: 0.4895 - val_accuracy: 0.8000\n",
      "Epoch 4/30\n",
      "90/90 [==============================] - 107s 1s/step - loss: 0.6011 - accuracy: 0.7462 - val_loss: 0.3954 - val_accuracy: 0.8597\n",
      "Epoch 5/30\n",
      "90/90 [==============================] - 108s 1s/step - loss: 0.5668 - accuracy: 0.7691 - val_loss: 0.3781 - val_accuracy: 0.8833\n",
      "Epoch 6/30\n",
      "90/90 [==============================] - 108s 1s/step - loss: 0.5297 - accuracy: 0.7833 - val_loss: 0.3225 - val_accuracy: 0.8750\n",
      "Epoch 7/30\n",
      "90/90 [==============================] - 103s 1s/step - loss: 0.4822 - accuracy: 0.8052 - val_loss: 0.3137 - val_accuracy: 0.8833\n",
      "Epoch 8/30\n",
      "90/90 [==============================] - 95s 1s/step - loss: 0.4312 - accuracy: 0.8347 - val_loss: 0.3537 - val_accuracy: 0.8542\n",
      "Epoch 9/30\n",
      "90/90 [==============================] - 97s 1s/step - loss: 0.4059 - accuracy: 0.8441 - val_loss: 0.2827 - val_accuracy: 0.8972\n",
      "Epoch 10/30\n",
      "90/90 [==============================] - 92s 1s/step - loss: 0.3984 - accuracy: 0.8549 - val_loss: 0.2827 - val_accuracy: 0.8972\n",
      "Epoch 11/30\n",
      "90/90 [==============================] - 93s 1s/step - loss: 0.3848 - accuracy: 0.8611 - val_loss: 0.2501 - val_accuracy: 0.9042\n",
      "Epoch 12/30\n",
      "90/90 [==============================] - 94s 1s/step - loss: 0.3590 - accuracy: 0.8677 - val_loss: 0.2909 - val_accuracy: 0.8931\n",
      "Epoch 13/30\n",
      "90/90 [==============================] - 93s 1s/step - loss: 0.3456 - accuracy: 0.8635 - val_loss: 0.2303 - val_accuracy: 0.9181\n",
      "Epoch 14/30\n",
      "90/90 [==============================] - 93s 1s/step - loss: 0.3574 - accuracy: 0.8660 - val_loss: 0.2602 - val_accuracy: 0.8958\n",
      "Epoch 15/30\n",
      "90/90 [==============================] - 92s 1s/step - loss: 0.3382 - accuracy: 0.8778 - val_loss: 0.2407 - val_accuracy: 0.9153\n",
      "Epoch 16/30\n",
      "90/90 [==============================] - 92s 1s/step - loss: 0.3232 - accuracy: 0.8833 - val_loss: 0.2426 - val_accuracy: 0.9056\n",
      "Epoch 17/30\n",
      "90/90 [==============================] - 94s 1s/step - loss: 0.3156 - accuracy: 0.8858 - val_loss: 0.2326 - val_accuracy: 0.9181\n",
      "Epoch 18/30\n",
      "90/90 [==============================] - 93s 1s/step - loss: 0.3149 - accuracy: 0.8854 - val_loss: 0.2437 - val_accuracy: 0.9111\n",
      "Epoch 19/30\n",
      "90/90 [==============================] - 92s 1s/step - loss: 0.3117 - accuracy: 0.8844 - val_loss: 0.2135 - val_accuracy: 0.9236\n",
      "Epoch 20/30\n",
      "90/90 [==============================] - 92s 1s/step - loss: 0.3088 - accuracy: 0.8847 - val_loss: 0.2129 - val_accuracy: 0.9278\n",
      "Epoch 21/30\n",
      "90/90 [==============================] - 92s 1s/step - loss: 0.3077 - accuracy: 0.8972 - val_loss: 0.2251 - val_accuracy: 0.9181\n",
      "Epoch 22/30\n",
      "90/90 [==============================] - 88s 978ms/step - loss: 0.2996 - accuracy: 0.8906 - val_loss: 0.2098 - val_accuracy: 0.9333\n",
      "Epoch 23/30\n",
      "90/90 [==============================] - 87s 966ms/step - loss: 0.2814 - accuracy: 0.8976 - val_loss: 0.2189 - val_accuracy: 0.9278\n",
      "Epoch 24/30\n",
      "90/90 [==============================] - 87s 962ms/step - loss: 0.3161 - accuracy: 0.8868 - val_loss: 0.2259 - val_accuracy: 0.9208\n",
      "Epoch 25/30\n",
      "90/90 [==============================] - 90s 1s/step - loss: 0.2809 - accuracy: 0.8955 - val_loss: 0.2103 - val_accuracy: 0.9208\n",
      "Epoch 26/30\n",
      "90/90 [==============================] - 92s 1s/step - loss: 0.2911 - accuracy: 0.8958 - val_loss: 0.1947 - val_accuracy: 0.9250\n",
      "Epoch 27/30\n",
      "90/90 [==============================] - 88s 976ms/step - loss: 0.2918 - accuracy: 0.8958 - val_loss: 0.2141 - val_accuracy: 0.9222\n",
      "Epoch 28/30\n",
      "90/90 [==============================] - 89s 993ms/step - loss: 0.2737 - accuracy: 0.9017 - val_loss: 0.1939 - val_accuracy: 0.9278\n",
      "Epoch 29/30\n",
      "90/90 [==============================] - 89s 985ms/step - loss: 0.2943 - accuracy: 0.8986 - val_loss: 0.2088 - val_accuracy: 0.9222\n",
      "Epoch 30/30\n",
      "90/90 [==============================] - 89s 990ms/step - loss: 0.2779 - accuracy: 0.8965 - val_loss: 0.2006 - val_accuracy: 0.9278\n"
     ]
    }
   ],
   "source": [
    "history = model.fit(train_generator,\n",
    "                    epochs=30,\n",
    "                    validation_data = valid_generator,\n",
    "                   )"
   ]
  },
  {
   "cell_type": "code",
   "execution_count": 137,
   "metadata": {},
   "outputs": [],
   "source": [
    "from tensorflow.keras.models import load_model\n",
    "\n",
    "model.save('custom_model.h5')"
   ]
  }
 ],
 "metadata": {
  "kernelspec": {
   "display_name": "Python 3",
   "language": "python",
   "name": "python3"
  },
  "language_info": {
   "codemirror_mode": {
    "name": "ipython",
    "version": 3
   },
   "file_extension": ".py",
   "mimetype": "text/x-python",
   "name": "python",
   "nbconvert_exporter": "python",
   "pygments_lexer": "ipython3",
   "version": "3.7.0"
  }
 },
 "nbformat": 4,
 "nbformat_minor": 4
}
