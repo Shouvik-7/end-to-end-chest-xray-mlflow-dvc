{
 "cells": [
  {
   "cell_type": "code",
   "execution_count": 1,
   "metadata": {},
   "outputs": [],
   "source": [
    "import gdown "
   ]
  },
  {
   "cell_type": "code",
   "execution_count": 2,
   "metadata": {},
   "outputs": [],
   "source": [
    "url = 'https://drive.google.com/file/d/1D98XjzSWI9cvjQFgHPgzhfGZrCgtyram/view?usp=sharing'"
   ]
  },
  {
   "cell_type": "code",
   "execution_count": 6,
   "metadata": {},
   "outputs": [
    {
     "data": {
      "text/plain": [
       "'1D98XjzSWI9cvjQFgHPgzhfGZrCgtyram'"
      ]
     },
     "execution_count": 6,
     "metadata": {},
     "output_type": "execute_result"
    }
   ],
   "source": [
    "file_id = url.split(\"/\")[-2]\n",
    "file_id\n"
   ]
  },
  {
   "cell_type": "code",
   "execution_count": 7,
   "metadata": {},
   "outputs": [
    {
     "name": "stderr",
     "output_type": "stream",
     "text": [
      "Downloading...\n",
      "From (original): https://drive.google.com/uc?/export=download&id=1D98XjzSWI9cvjQFgHPgzhfGZrCgtyram\n",
      "From (redirected): https://drive.google.com/uc?%2Fexport=download&id=1D98XjzSWI9cvjQFgHPgzhfGZrCgtyram&confirm=t&uuid=103c1d1c-6571-4ae0-9191-eee1f217b153\n",
      "To: c:\\Users\\shouv\\PycharmProjects\\end-to-end-chest-xray-mlflow-dvc\\research\\test.zip\n",
      "100%|██████████| 77.6M/77.6M [00:01<00:00, 39.4MB/s]\n"
     ]
    },
    {
     "data": {
      "text/plain": [
       "'test.zip'"
      ]
     },
     "execution_count": 7,
     "metadata": {},
     "output_type": "execute_result"
    }
   ],
   "source": [
    "prefix = 'https://drive.google.com/uc?/export=download&id='\n",
    "gdown.download(prefix+file_id, \"test.zip\")"
   ]
  },
  {
   "cell_type": "code",
   "execution_count": null,
   "metadata": {},
   "outputs": [],
   "source": []
  }
 ],
 "metadata": {
  "kernelspec": {
   "display_name": "xray",
   "language": "python",
   "name": "python3"
  },
  "language_info": {
   "codemirror_mode": {
    "name": "ipython",
    "version": 3
   },
   "file_extension": ".py",
   "mimetype": "text/x-python",
   "name": "python",
   "nbconvert_exporter": "python",
   "pygments_lexer": "ipython3",
   "version": "3.8.19"
  }
 },
 "nbformat": 4,
 "nbformat_minor": 2
}
